{
 "cells": [
  {
   "cell_type": "code",
   "execution_count": null,
   "id": "7bd081aa",
   "metadata": {},
   "outputs": [],
   "source": [
    "import pandas as pd\n",
    "import matplotlib.pyplot as plt\n",
    "import seaborn as sns\n",
    "\n",
    "file_path = \"/mnt/data/Assgt_clusBathSoap_Data.xlsx\"\n",
    "df = pd.read_excel(file_path, sheet_name='DM_Sheet')\n",
    "df.head()"
   ]
  },
  {
   "cell_type": "code",
   "execution_count": null,
   "id": "89de2079",
   "metadata": {},
   "outputs": [],
   "source": [
    "df.describe(), df.isnull().sum()"
   ]
  },
  {
   "cell_type": "code",
   "execution_count": null,
   "id": "e362ca91",
   "metadata": {},
   "outputs": [],
   "source": [
    "sns.histplot(df['maxBrCd'], bins=20, kde=True)\n",
    "plt.title('Brand Loyalty Distribution')\n",
    "plt.show()"
   ]
  },
  {
   "cell_type": "code",
   "execution_count": null,
   "id": "27b7a305",
   "metadata": {},
   "outputs": [],
   "source": [
    "df['Switching_Freq'] = df['Brand Runs'] / df['No. of Brands']\n",
    "sns.histplot(df['Switching_Freq'], bins=20, kde=True)\n",
    "plt.title('Brand Switching Frequency')\n",
    "plt.show()"
   ]
  },
  {
   "cell_type": "code",
   "execution_count": null,
   "id": "c0cc4f35",
   "metadata": {},
   "outputs": [],
   "source": [
    "df.rename(columns={'Avg. Price ': 'Avg. Price'}, inplace=True)\n",
    "corr_cols = ['No. of Brands', 'Brand Runs', 'Switching_Freq', 'Total Volume', 'maxBrCd']\n",
    "sns.heatmap(df[corr_cols].corr(), annot=True, cmap='coolwarm')\n",
    "plt.title('Correlation Matrix')\n",
    "plt.show()"
   ]
  }
 ],
 "metadata": {},
 "nbformat": 4,
 "nbformat_minor": 5
}